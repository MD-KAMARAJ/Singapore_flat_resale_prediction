{
 "cells": [
  {
   "cell_type": "markdown",
   "id": "7084ead6-e0c8-489f-80c3-2cdedaf6738c",
   "metadata": {},
   "source": [
    "# Singapore Flat Resale price Prediction"
   ]
  },
  {
   "cell_type": "markdown",
   "id": "222c23de-bdf9-4301-ae86-0ec96add5f1c",
   "metadata": {},
   "source": [
    "## Step 1- Reading the data"
   ]
  },
  {
   "cell_type": "code",
   "execution_count": 2,
   "id": "b774a57a-afb0-4109-ac5f-801f7e8972a8",
   "metadata": {},
   "outputs": [],
   "source": [
    "import pandas as pd\n",
    "import numpy as np\n",
    "import matplotlib.pyplot as plt\n",
    "import seaborn as sns\n",
    "%matplotlib inline\n",
    "import plotly.express as px\n",
    "import plotly.graph_objects as go\n",
    "import joblib"
   ]
  },
  {
   "cell_type": "code",
   "execution_count": 3,
   "id": "3984a480-b377-44cd-9b04-676073f4008b",
   "metadata": {},
   "outputs": [],
   "source": [
    "df = pd.read_csv('ResaleFlatPricesBasedonApprovalDate1990 to 1999_1.csv')\n",
    "df1 = pd.read_csv('ResaleFlatPricesBasedonApprovalDate2000 to Feb2012_2.csv')\n",
    "df2 = pd.read_csv('ResaleFlatPricesBasedonRegistrationDateFromMar2012 to Dec2014_3.csv')\n",
    "df3 = pd.read_csv('ResaleFlatPricesBasedonRegistrationDateFromJan2015 to Dec2016_4.csv')\n",
    "df4 = pd.read_csv('ResaleflatpricesbasedonregistrationdatefromJan2017onwards_5.csv')"
   ]
  },
  {
   "cell_type": "code",
   "execution_count": 4,
   "id": "19755384-c062-4fec-a8c1-358056d337a7",
   "metadata": {},
   "outputs": [],
   "source": [
    "df_combined=pd.concat([df,df1,df2,df3,df4], axis=0, ignore_index= True)"
   ]
  },
  {
   "cell_type": "markdown",
   "id": "8f7efb5e-bacd-42b0-8da5-3b0765c8d877",
   "metadata": {},
   "source": [
    "## Step 2 -Data Cleaning"
   ]
  },
  {
   "cell_type": "code",
   "execution_count": null,
   "id": "53cdc0da-ee3c-483e-a753-94ab54a33637",
   "metadata": {},
   "outputs": [],
   "source": [
    "df_combined.head()"
   ]
  },
  {
   "cell_type": "code",
   "execution_count": null,
   "id": "14e33d72-1ada-469f-ba5e-ddf51b6f97b9",
   "metadata": {},
   "outputs": [],
   "source": [
    "df_combined.info()"
   ]
  },
  {
   "cell_type": "code",
   "execution_count": null,
   "id": "a62d57a6-c6f4-42ce-bd80-e4b1dbdedc6a",
   "metadata": {},
   "outputs": [],
   "source": [
    "df_combined.isnull().sum()"
   ]
  },
  {
   "cell_type": "code",
   "execution_count": 8,
   "id": "10f7ca1e-c0ea-4ebf-9d93-90517f565d5f",
   "metadata": {},
   "outputs": [],
   "source": [
    "df_combined['month']= pd.to_datetime(df_combined['month'],format='%Y-%m')"
   ]
  },
  {
   "cell_type": "code",
   "execution_count": 9,
   "id": "0110c6bb-2fac-487e-b3fa-93c0f11aabba",
   "metadata": {},
   "outputs": [],
   "source": [
    "df_combined['remaining_lease'] = 99-(df_combined['month'].dt.year - df_combined['lease_commence_date'])"
   ]
  },
  {
   "cell_type": "code",
   "execution_count": null,
   "id": "d19b8fcb-108f-4bc3-b55d-7fc3bf8468f1",
   "metadata": {},
   "outputs": [],
   "source": [
    "df_combined.describe()"
   ]
  },
  {
   "cell_type": "code",
   "execution_count": 11,
   "id": "8f88fbb0-a4f5-4863-b646-00451d0e60bf",
   "metadata": {},
   "outputs": [],
   "source": [
    "#remaining lease cannot be more than 99\n",
    "df1_combined = df_combined[df_combined['remaining_lease'] <= 99].reset_index(drop=True)"
   ]
  },
  {
   "cell_type": "code",
   "execution_count": null,
   "id": "ccddcbdb-d330-4525-afc6-469501d82f90",
   "metadata": {},
   "outputs": [],
   "source": [
    "df1_combined.describe()"
   ]
  },
  {
   "cell_type": "code",
   "execution_count": null,
   "id": "fbbc981e-4ba5-4607-8bb7-5b53d184b71d",
   "metadata": {},
   "outputs": [],
   "source": [
    "df1_combined.shape"
   ]
  },
  {
   "cell_type": "code",
   "execution_count": null,
   "id": "1a7608de-013d-4b60-b02a-570a7c35f394",
   "metadata": {},
   "outputs": [],
   "source": [
    "df1_combined['mid_storey']= (df1_combined['storey_range'].str.split('TO').str[0].astype(int) + 1)\n",
    "df1_combined.head()"
   ]
  },
  {
   "cell_type": "code",
   "execution_count": null,
   "id": "00f8e19b-84aa-47f4-8b20-12ea47b1775f",
   "metadata": {},
   "outputs": [],
   "source": [
    "df1_combined.columns"
   ]
  },
  {
   "cell_type": "code",
   "execution_count": null,
   "id": "be7252ff-a48d-4e3d-82f5-8971c32400d0",
   "metadata": {},
   "outputs": [],
   "source": [
    "train_df = df1_combined.iloc[:int(df1_combined.shape[0] * 0.9)]\n",
    "train_df.head()"
   ]
  },
  {
   "cell_type": "markdown",
   "id": "a3f96520-db54-47a1-ab3d-84db2f6b3aa0",
   "metadata": {},
   "source": [
    "## Step 3 - EDA"
   ]
  },
  {
   "cell_type": "code",
   "execution_count": null,
   "id": "df0e3fe4",
   "metadata": {},
   "outputs": [],
   "source": [
    "train_df['year']=train_df['month'].dt.year"
   ]
  },
  {
   "cell_type": "code",
   "execution_count": 18,
   "id": "06ce939e-270a-4c1a-9679-a536369e586c",
   "metadata": {},
   "outputs": [],
   "source": [
    "categorical_columns = train_df.select_dtypes(include ='object').columns\n",
    "numerical_columns = train_df.select_dtypes(include=np.number).columns"
   ]
  },
  {
   "cell_type": "code",
   "execution_count": null,
   "id": "94d741fe",
   "metadata": {},
   "outputs": [],
   "source": [
    "categorical_columns"
   ]
  },
  {
   "cell_type": "code",
   "execution_count": 20,
   "id": "da250ee7-51f6-4f48-9605-2ddf56a3be97",
   "metadata": {},
   "outputs": [],
   "source": [
    "numerical_columns=[ 'year','floor_area_sqm','remaining_lease', 'mid_storey','resale_price']"
   ]
  },
  {
   "cell_type": "code",
   "execution_count": 21,
   "id": "9ec29cce-0c64-4e92-b554-656e7b57ce54",
   "metadata": {},
   "outputs": [],
   "source": [
    "numerical_columns_1=['year','floor_area_sqm','remaining_lease','mid_storey']"
   ]
  },
  {
   "cell_type": "code",
   "execution_count": null,
   "id": "b291f450-9a7d-4f12-b357-0556cd8154a3",
   "metadata": {
    "scrolled": true
   },
   "outputs": [],
   "source": [
    "for i in numerical_columns:\n",
    "    plt.figure(figsize=(12, 6))\n",
    "    # Plot before log transformation\n",
    "    sns.histplot(data=train_df,x=i,bins=50,kde=True)\n",
    "    plt.title(f'{i}')"
   ]
  },
  {
   "cell_type": "code",
   "execution_count": null,
   "id": "a406cf57",
   "metadata": {},
   "outputs": [],
   "source": [
    "train_df.head()"
   ]
  },
  {
   "cell_type": "code",
   "execution_count": null,
   "id": "63963964-2d3d-4d7e-97c6-a1ff50990095",
   "metadata": {},
   "outputs": [],
   "source": [
    "for i in numerical_columns_1:\n",
    "    fig=px.scatter(train_df, x=i, y='resale_price', trendline='ols', trendline_color_override= 'red')\n",
    "    fig.show()\n"
   ]
  },
  {
   "cell_type": "code",
   "execution_count": null,
   "id": "7fd6a834",
   "metadata": {},
   "outputs": [],
   "source": [
    "sns.lmplot(data=train_df, x= 'year', y = 'resale_price', hue='flat_type')\n",
    "plt.show()"
   ]
  },
  {
   "cell_type": "code",
   "execution_count": null,
   "id": "4ef7f04b",
   "metadata": {},
   "outputs": [],
   "source": [
    "sns.lmplot(data=train_df, x= 'year', y = 'resale_price', hue='town')\n",
    "plt.show()"
   ]
  },
  {
   "cell_type": "code",
   "execution_count": 23,
   "id": "2769beb7-f3d4-4919-88bd-71bdb8c6909e",
   "metadata": {},
   "outputs": [],
   "source": [
    "df1=train_df.copy()"
   ]
  },
  {
   "cell_type": "code",
   "execution_count": 24,
   "id": "b4bd772e-acf3-454d-b713-158a9ff5a219",
   "metadata": {},
   "outputs": [],
   "source": [
    "df1['remaining_lease_log']=np.log(df1['remaining_lease'])\n",
    "df1['floor_area_sqm_log']=np.log(df1['floor_area_sqm'])\n",
    "df1['mid_storey_log']=np.log(df1['mid_storey'])\n",
    "df1['year_log']=np.log(df1['year'])\n",
    "df1['resale_price_log']=np.log(df1['resale_price'])"
   ]
  },
  {
   "cell_type": "code",
   "execution_count": 25,
   "id": "c0f2d294-5137-49d7-b3c5-eaf4a3f8e5c0",
   "metadata": {},
   "outputs": [],
   "source": [
    "numerical_columns_logged=['year_log','floor_area_sqm_log','remaining_lease_log','mid_storey_log','resale_price_log']"
   ]
  },
  {
   "cell_type": "code",
   "execution_count": 26,
   "id": "1882206f",
   "metadata": {},
   "outputs": [],
   "source": [
    "numerical_columns_logged_1=['year_log','floor_area_sqm_log','remaining_lease_log','mid_storey_log']"
   ]
  },
  {
   "cell_type": "code",
   "execution_count": null,
   "id": "f155684a-4079-40d4-8e56-62450566fe68",
   "metadata": {},
   "outputs": [],
   "source": [
    "for i,j in zip(numerical_columns,numerical_columns_logged):\n",
    "    plt.figure(figsize=(12, 6))\n",
    "    # Plot before log transformation\n",
    "    plt.subplot(1, 2, 1)\n",
    "    sns.histplot(data=df1,x=i,bins=50,kde=True)\n",
    "    plt.title(f'before log {i}')\n",
    "\n",
    "    # Plot after log transformation\n",
    "    plt.subplot(1, 2, 2)\n",
    "    sns.histplot(data=df1,x=j,bins=50,kde=True)\n",
    "    plt.title(f'after log-Transformed {j}')\n",
    "    # Display the plots\n",
    "    plt.tight_layout()\n",
    "    plt.show()"
   ]
  },
  {
   "cell_type": "markdown",
   "id": "ff6f67ef-f8b7-4e34-8587-9f16350665be",
   "metadata": {},
   "source": [
    "# Step 4 - Feature Engineering and Feature selection"
   ]
  },
  {
   "cell_type": "markdown",
   "id": "cdaf6884-7d9d-4cdc-ac46-d1bcecee0f41",
   "metadata": {},
   "source": [
    "# Feature selection"
   ]
  },
  {
   "cell_type": "code",
   "execution_count": null,
   "id": "b3bfb8dc-06b1-4d1f-9058-8c583179735d",
   "metadata": {},
   "outputs": [],
   "source": [
    "df1.columns"
   ]
  },
  {
   "cell_type": "markdown",
   "id": "9efa3071-28e5-4df0-867f-12a2f5863155",
   "metadata": {},
   "source": [
    "Features like month, block, street_name, storey_range,lease_commence_Date, are not so important for resale flat price predicton and so they are dropped"
   ]
  },
  {
   "cell_type": "markdown",
   "id": "e83c7f4f-4c86-47a1-a228-431db5dc6f39",
   "metadata": {},
   "source": [
    "Features like floor_area_sqm, remaining_lease, mid_storey are dropped because we dont need those as we have logged values of those features"
   ]
  },
  {
   "cell_type": "code",
   "execution_count": 28,
   "id": "a1082f92-644b-44b7-8365-121ec7f69a2e",
   "metadata": {},
   "outputs": [],
   "source": [
    "selected_features=['town','flat_type','year_log','remaining_lease_log','floor_area_sqm_log', 'mid_storey_log']"
   ]
  },
  {
   "cell_type": "markdown",
   "id": "7fa65643-83e6-4390-9481-9690a0bcf2e9",
   "metadata": {},
   "source": [
    "# Feature Engineering"
   ]
  },
  {
   "cell_type": "code",
   "execution_count": 29,
   "id": "96d402f8-cdb6-4238-bc7f-3591a51cd112",
   "metadata": {},
   "outputs": [],
   "source": [
    "df2 = df1[['town', 'flat_type','year_log','remaining_lease_log','floor_area_sqm_log', 'mid_storey_log','resale_price_log']]"
   ]
  },
  {
   "cell_type": "code",
   "execution_count": null,
   "id": "eb1c24e4-6ced-48d6-bcb0-1401d64a8b6f",
   "metadata": {},
   "outputs": [],
   "source": [
    "numerical_columns_1"
   ]
  },
  {
   "cell_type": "code",
   "execution_count": null,
   "id": "70efc284-9421-4d31-bc7a-b59a7c99f49d",
   "metadata": {},
   "outputs": [],
   "source": [
    "numerical_columns_logged_1"
   ]
  },
  {
   "cell_type": "markdown",
   "id": "fd776a55-d00b-496a-ba7c-a777182e9233",
   "metadata": {},
   "source": [
    "## Step 5 - Handling outliers"
   ]
  },
  {
   "cell_type": "code",
   "execution_count": null,
   "id": "409f3769-0303-4e57-bd94-380ef67a2194",
   "metadata": {},
   "outputs": [],
   "source": [
    "#Detecting Outliers before and after log transformation\n",
    "for i,j in zip(numerical_columns_1,numerical_columns_logged_1):\n",
    "        plt.figure(figsize=(10, 6))\n",
    "    # Plot before log transformation\n",
    "        plt.subplot(1, 2, 1)\n",
    "        sns.boxplot(data=train_df, x=i)\n",
    "        plt.title(f\"Boxplot to Detect Outliers before log of {i}\")\n",
    "        \n",
    "        \n",
    "        plt.subplot(1, 2, 2)\n",
    "        sns.boxplot(data=df2, x=j)\n",
    "        plt.title(f\"Boxplot to Detect Outliers after log of {j}\")\n",
    "        plt.tight_layout()\n",
    "        plt.show()"
   ]
  },
  {
   "cell_type": "code",
   "execution_count": 39,
   "id": "cf2cbadc-f203-40cb-9f9f-905516fc19bb",
   "metadata": {},
   "outputs": [],
   "source": [
    "#There are some outliers in floor_area_sqm_log, mid_storey_log,remaining_lease_log"
   ]
  },
  {
   "cell_type": "code",
   "execution_count": 32,
   "id": "f1475445-e1a9-4768-8ae5-0adf1cf04f38",
   "metadata": {},
   "outputs": [],
   "source": [
    "def outlier(df, column):\n",
    "    iqr = df[column].quantile(0.75) - df[column].quantile(0.25)\n",
    "    upper = df[column].quantile(0.75) + (1.5*iqr)\n",
    "    lower = df[column].quantile(0.25) - (1.5*iqr)\n",
    "    df_filtered = df[(df[column] >= lower) & (df[column] <= upper)]\n",
    "    return df_filtered"
   ]
  },
  {
   "cell_type": "code",
   "execution_count": null,
   "id": "f2b0f991-3516-4e51-af9a-6e6baf8bdbfc",
   "metadata": {},
   "outputs": [],
   "source": [
    "df3 = outlier(df2,'floor_area_sqm_log').reset_index(drop=True)\n",
    "df3"
   ]
  },
  {
   "cell_type": "code",
   "execution_count": null,
   "id": "71a97ed3-51ea-4057-8ee3-fffc326648bc",
   "metadata": {},
   "outputs": [],
   "source": [
    "df4=outlier(df3,'mid_storey_log').reset_index(drop=True)\n",
    "df4"
   ]
  },
  {
   "cell_type": "code",
   "execution_count": null,
   "id": "ffb5280d-4afb-4996-b2fe-eef4c93c72d9",
   "metadata": {},
   "outputs": [],
   "source": [
    "df5=outlier(df4,'remaining_lease_log').reset_index(drop=True)\n",
    "df5"
   ]
  },
  {
   "cell_type": "code",
   "execution_count": null,
   "id": "97dff118-3ebe-4590-b385-e0dd80de97b7",
   "metadata": {},
   "outputs": [],
   "source": [
    "for i in numerical_columns_logged_1:\n",
    "        plt.figure(figsize=(10, 6))\n",
    "        plt.subplot(1, 2, 1)\n",
    "        sns.boxplot(data=df2, x=i)\n",
    "        plt.title(f\"Boxplot to Detect Outliers before Outlier removal of {i}\")\n",
    "\n",
    "        plt.subplot(1, 2, 2)\n",
    "        sns.boxplot(data=df5, x=i)\n",
    "        plt.title(f\"Boxplot to Detect Outliers after Outlier_removal of {i}\")\n",
    "        plt.tight_layout()\n",
    "        plt.show()"
   ]
  },
  {
   "cell_type": "code",
   "execution_count": null,
   "id": "8ab18fcc",
   "metadata": {},
   "outputs": [],
   "source": [
    "df5.columns"
   ]
  },
  {
   "cell_type": "markdown",
   "id": "b36f13c1-345c-4082-801b-45e1f9933b86",
   "metadata": {},
   "source": [
    "## Step 6 - Encoding"
   ]
  },
  {
   "cell_type": "code",
   "execution_count": 37,
   "id": "305f0384-8d33-4a0e-85c9-855da80ab782",
   "metadata": {},
   "outputs": [],
   "source": [
    "df6=df5.copy()"
   ]
  },
  {
   "cell_type": "code",
   "execution_count": 38,
   "id": "19d4083b-e295-4940-b375-7bec7b1187ee",
   "metadata": {},
   "outputs": [],
   "source": [
    "df6['flat_type']=df6['flat_type'].str.replace('-', ' ')"
   ]
  },
  {
   "cell_type": "code",
   "execution_count": null,
   "id": "279be9f3-1788-48b1-a108-df375fed1fa1",
   "metadata": {},
   "outputs": [],
   "source": [
    "df6['flat_type'].unique()"
   ]
  },
  {
   "cell_type": "code",
   "execution_count": 40,
   "id": "8d1cf98b-6758-4970-afb3-ed6da492e06b",
   "metadata": {},
   "outputs": [],
   "source": [
    "flat_type_map={'1 ROOM' :1 , '2 ROOM': 2, '3 ROOM': 3, '4 ROOM': 4, '5 ROOM': 5,  'EXECUTIVE':6,\n",
    "       'MULTI GENERATION': 7}\n",
    "\n",
    "df6['flat_type_encoded']=df6['flat_type'].map(flat_type_map)"
   ]
  },
  {
   "cell_type": "code",
   "execution_count": 41,
   "id": "dd3ae31a-49a8-44c1-83e8-f4173ed3c4c5",
   "metadata": {},
   "outputs": [],
   "source": [
    "town_encoded={'ANG MO KIO':1, 'BEDOK':2, 'BISHAN':3, 'BUKIT BATOK':4, 'BUKIT MERAH':5,\n",
    "       'BUKIT TIMAH':6, 'CENTRAL AREA':7, 'CLEMENTI':8, 'GEYLANG':9, 'HOUGANG':10,\n",
    "       'JURONG EAST':11, 'JURONG WEST':12, 'KALLANG/WHAMPOA':13, 'MARINE PARADE':14,\n",
    "       'QUEENSTOWN':15, 'SERANGOON':16, 'TAMPINES':17, 'TOA PAYOH':18, 'WOODLANDS':19,\n",
    "       'YISHUN':20, 'CHOA CHU KANG':21, 'BUKIT PANJANG':22, 'PASIR RIS':23,\n",
    "       'SENGKANG':24, 'SEMBAWANG':25, 'LIM CHU KANG':26, 'PUNGGOL':27}\n",
    "df6['town_encoded']=df6['town'].map(town_encoded)"
   ]
  },
  {
   "cell_type": "code",
   "execution_count": 42,
   "id": "4efc78e5-4703-4e77-8fa3-cf45f3bdd3fd",
   "metadata": {},
   "outputs": [],
   "source": [
    "df7=df6[['town_encoded','flat_type_encoded','year_log','floor_area_sqm_log', 'remaining_lease_log','mid_storey_log']]"
   ]
  },
  {
   "cell_type": "markdown",
   "id": "25d8a7ef-b533-4d11-8d34-7b1163312264",
   "metadata": {},
   "source": [
    "## Step 7 - Feature Scaling"
   ]
  },
  {
   "cell_type": "code",
   "execution_count": null,
   "id": "fd1f15cc-559a-45a8-a8a6-90d2fe2d21e0",
   "metadata": {},
   "outputs": [],
   "source": [
    "from sklearn.preprocessing import StandardScaler\n",
    "scaler=StandardScaler()\n",
    "scaler_target=StandardScaler()\n",
    "df8_scaled=scaler.fit_transform(df7)\n",
    "df8_target_scaled=scaler_target.fit_transform(df6[['resale_price_log']])\n",
    "df8_scaled"
   ]
  },
  {
   "cell_type": "code",
   "execution_count": null,
   "id": "93a20a7d-3adc-4d0b-8174-b574d5b9a262",
   "metadata": {
    "scrolled": true
   },
   "outputs": [],
   "source": [
    "df8_scaled=pd.DataFrame(df8_scaled, columns=['town_encoded','flat_type_encoded','year_log','floor_area_sqm_log', 'remaining_lease_log','mid_storey_log'])\n",
    "df8_scaled.head()"
   ]
  },
  {
   "cell_type": "code",
   "execution_count": null,
   "id": "172058b2",
   "metadata": {},
   "outputs": [],
   "source": [
    "df8_scaled_target=pd.DataFrame(df8_target_scaled, columns=['resale_price_log'])\n",
    "df8_scaled_target.head()"
   ]
  },
  {
   "cell_type": "code",
   "execution_count": 46,
   "id": "21081bd8",
   "metadata": {},
   "outputs": [],
   "source": [
    "df8_scaled_1=pd.concat([df8_scaled,df8_scaled_target],axis=1)"
   ]
  },
  {
   "cell_type": "code",
   "execution_count": 47,
   "id": "af0aaf84-122d-400a-8742-f8eef8174e90",
   "metadata": {},
   "outputs": [],
   "source": [
    "selected_features_AS = ['town_encoded','flat_type_encoded','year_log','floor_area_sqm_log', 'remaining_lease_log','mid_storey_log']"
   ]
  },
  {
   "cell_type": "markdown",
   "id": "4a4e1d7b-4bde-4b60-a26f-ac291353a09e",
   "metadata": {},
   "source": [
    "## Step 8 - Model Selection"
   ]
  },
  {
   "cell_type": "code",
   "execution_count": 48,
   "id": "dd48ac7e-5af8-4b10-adce-293ceea1535e",
   "metadata": {},
   "outputs": [],
   "source": [
    "from sklearn.model_selection import train_test_split\n",
    "from sklearn.linear_model import LinearRegression, Ridge, Lasso, ElasticNet\n",
    "from sklearn.metrics import r2_score,mean_squared_error,mean_absolute_error"
   ]
  },
  {
   "cell_type": "code",
   "execution_count": 49,
   "id": "65cfb28c-c89d-415a-837e-58ad8c83da4b",
   "metadata": {},
   "outputs": [],
   "source": [
    "# Randomly sample 20% of your dataset\n",
    "df_sample = df8_scaled_1.sample(frac=0.2, random_state=42)\n",
    "X_sample = df_sample.drop('resale_price_log',axis=1)\n",
    "y_sample = df_sample['resale_price_log']"
   ]
  },
  {
   "cell_type": "code",
   "execution_count": null,
   "id": "793d22b3-9d4a-47da-a667-3fd99815ca0d",
   "metadata": {},
   "outputs": [],
   "source": [
    "df_sample.isnull().sum()"
   ]
  },
  {
   "cell_type": "code",
   "execution_count": 51,
   "id": "e5b5980c-d921-4a0d-8233-19171b87462b",
   "metadata": {},
   "outputs": [],
   "source": [
    "from sklearn.model_selection import train_test_split\n",
    "# Train-test split\n",
    "X_train, X_test, y_train, y_test = train_test_split(X_sample, y_sample, test_size=0.2, random_state=42)"
   ]
  },
  {
   "cell_type": "code",
   "execution_count": null,
   "id": "9b3ae77a-126b-465f-bfc0-3feb3a906c37",
   "metadata": {},
   "outputs": [],
   "source": [
    "X_train.isnull().sum()"
   ]
  },
  {
   "cell_type": "code",
   "execution_count": 53,
   "id": "daff3fe1-209e-42e9-8f51-73870ab3a41e",
   "metadata": {},
   "outputs": [],
   "source": [
    "def model_fit_evaluation_regr(models_reg, x_train, x_test, y_train, y_test, metrics_reg):\n",
    "    results_reg = {}\n",
    "    \n",
    "    for model_name_reg, model_reg in models_reg.items():\n",
    "        regression = model_reg\n",
    "        regression.fit(x_train, y_train)\n",
    "        y_prediction = regression.predict(x_test)\n",
    "        results_reg[model_name_reg] = {}\n",
    "        for metric_name_reg, metric_func_reg in metrics_reg.items():\n",
    "            results_reg[model_name_reg][metric_name_reg] = metric_func_reg(y_test, y_prediction)\n",
    "    return results_reg\n",
    "\n",
    "models_reg = {\n",
    "    'Linear Regression': LinearRegression(),\n",
    "    'Ridge':Ridge(alpha=1.0),\n",
    "    'Lasso': Lasso(alpha=0.1),\n",
    "    'ElasticNet': ElasticNet(alpha=0.1, l1_ratio=0.5)}\n",
    "\n",
    "metrics_reg = {'MSE' : mean_squared_error,\n",
    "               'MAE': mean_absolute_error,\n",
    "                'R2_Score' : r2_score} "
   ]
  },
  {
   "cell_type": "code",
   "execution_count": null,
   "id": "8d713b2a-08c2-49a2-a3a4-92e7862bb3b8",
   "metadata": {},
   "outputs": [],
   "source": [
    "model_fit_evaluation_regr(models_reg, X_train, X_test, y_train, y_test, metrics_reg)"
   ]
  },
  {
   "cell_type": "code",
   "execution_count": 55,
   "id": "77af6c62-e76e-4e01-b54a-c671a3db7625",
   "metadata": {},
   "outputs": [],
   "source": [
    "from sklearn.tree import DecisionTreeRegressor\n",
    "from sklearn.ensemble import RandomForestRegressor\n",
    "from sklearn.ensemble import GradientBoostingRegressor"
   ]
  },
  {
   "cell_type": "code",
   "execution_count": 56,
   "id": "3aa8bace-1e5d-4647-92c7-5ba65373f090",
   "metadata": {},
   "outputs": [],
   "source": [
    "def model_fit_evaluation_Non_lin_regr(models_reg_Non_lin, x_train, x_test, y_train, y_test, metrics_reg_Non_lin):\n",
    "    results_reg = {}\n",
    "    \n",
    "    for model_name_reg, models_reg_Non_lin in models_reg_Non_lin.items():\n",
    "        regression = models_reg_Non_lin()\n",
    "        regression.fit(x_train, y_train)\n",
    "        y_prediction_reg = regression.predict(x_test)\n",
    "        results_reg[model_name_reg] = {}\n",
    "        for metric_name_reg, metric_func_reg in metrics_reg_Non_lin.items():\n",
    "            results_reg[model_name_reg][metric_name_reg] = metric_func_reg(y_test, y_prediction_reg)\n",
    "    return results_reg\n",
    "\n",
    "models_reg_Non_lin = {\n",
    "    'Gradient Boosting Regression':GradientBoostingRegressor,\n",
    "    'Random Forest Regression': RandomForestRegressor,\n",
    "    'Decision Tree Regression': DecisionTreeRegressor}\n",
    "\n",
    "metrics_reg_Non_lin = {'MSE' : mean_squared_error,\n",
    "               'MAE': mean_absolute_error,\n",
    "                'R2_Score' : r2_score} "
   ]
  },
  {
   "cell_type": "code",
   "execution_count": null,
   "id": "75a7937c-be0c-428d-90c1-6700bf32d59f",
   "metadata": {},
   "outputs": [],
   "source": [
    "model_fit_evaluation_Non_lin_regr(models_reg_Non_lin, X_train, X_test, y_train, y_test, metrics_reg_Non_lin)"
   ]
  },
  {
   "cell_type": "markdown",
   "id": "daedb47f-764b-478a-a421-9c0615b2989c",
   "metadata": {},
   "source": [
    "# Random Forest Regressor is selected as it has higher R_Square"
   ]
  },
  {
   "cell_type": "markdown",
   "id": "f0d7bed2-a72d-446f-88dd-2085034a792d",
   "metadata": {},
   "source": [
    "## Step 9 - Model Training "
   ]
  },
  {
   "cell_type": "code",
   "execution_count": 58,
   "id": "dad8561e-1f56-4e02-90f4-ee6fe314a7e8",
   "metadata": {},
   "outputs": [],
   "source": [
    "x_model = df8_scaled_1[['town_encoded','flat_type_encoded','year_log','floor_area_sqm_log', 'remaining_lease_log', 'mid_storey_log']]  \n",
    "y_model = df8_scaled_1[['resale_price_log']]\n",
    "x_train_model, x_test_model, y_train_model, y_test_model = train_test_split(x_model, y_model, test_size=0.2, random_state=42)"
   ]
  },
  {
   "cell_type": "code",
   "execution_count": null,
   "id": "8ed8af1e-e939-4fec-8d49-8440492e43b4",
   "metadata": {
    "scrolled": true
   },
   "outputs": [],
   "source": [
    "selected_model = RandomForestRegressor()\n",
    "\n",
    "# Train the model (fit to training data)\n",
    "selected_model.fit(x_train_model, y_train_model)\n"
   ]
  },
  {
   "cell_type": "markdown",
   "id": "4af7b09a-26e9-423b-826b-4d3afb718a04",
   "metadata": {},
   "source": [
    "## Step 10 - Model Export"
   ]
  },
  {
   "cell_type": "code",
   "execution_count": 60,
   "id": "cdcce40c-a72d-4655-99e2-8521f47db0b7",
   "metadata": {},
   "outputs": [],
   "source": [
    "import joblib"
   ]
  },
  {
   "cell_type": "code",
   "execution_count": 64,
   "id": "4886ded0-ea26-400c-911f-6d06dede241f",
   "metadata": {},
   "outputs": [],
   "source": [
    "model_file_name=r\"D:\\GUVI_projects\\model_RF.joblib\""
   ]
  },
  {
   "cell_type": "code",
   "execution_count": 65,
   "id": "4b776c39-75a5-4ebc-819f-1aba2e9103dc",
   "metadata": {},
   "outputs": [],
   "source": [
    "saved_data = {'model': selected_model,'scaler':scaler,'scaler_target':scaler_target}"
   ]
  },
  {
   "cell_type": "code",
   "execution_count": null,
   "id": "6a4a6133-a774-4e1e-a230-c2810a200646",
   "metadata": {},
   "outputs": [],
   "source": [
    "joblib.dump(saved_data, model_file_name)"
   ]
  },
  {
   "cell_type": "code",
   "execution_count": null,
   "id": "443f5e86-56c6-4d1e-b307-8b9304f9cbde",
   "metadata": {},
   "outputs": [],
   "source": []
  }
 ],
 "metadata": {
  "kernelspec": {
   "display_name": "Python 3 (ipykernel)",
   "language": "python",
   "name": "python3"
  },
  "language_info": {
   "codemirror_mode": {
    "name": "ipython",
    "version": 3
   },
   "file_extension": ".py",
   "mimetype": "text/x-python",
   "name": "python",
   "nbconvert_exporter": "python",
   "pygments_lexer": "ipython3",
   "version": "3.12.3"
  }
 },
 "nbformat": 4,
 "nbformat_minor": 5
}
